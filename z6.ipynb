{
 "cells": [
  {
   "cell_type": "code",
   "execution_count": 11,
   "metadata": {},
   "outputs": [
    {
     "name": "stdout",
     "output_type": "stream",
     "text": [
      "['Pruning ratio', 'EL2N', 'Random']\n",
      "['0% pruning', '93.29', '93.26']\n",
      "['10% pruning', '93.19', '92.82']\n",
      "['20% pruning', '93.39', '92.31']\n",
      "['30% pruning', '93.20', '91.89']\n",
      "['40% pruning', '92.61', '91.41']\n",
      "['50% pruning', '92.54', '89.92']\n",
      "['60% pruning', '89.83', '88.30']\n",
      "['70% pruning', '72.76', '87.12']\n",
      "['80% pruning', '45.03', '84.04']\n",
      "['90% pruning', '22.17', '74.74']\n"
     ]
    }
   ],
   "source": [
    "li = []\n",
    "# Open the file in read mode\n",
    "with open('result.txt', 'r') as file:\n",
    "    # Loop through each line in the file\n",
    "    for line in file:\n",
    "        line = line.split('-')\n",
    "        for i in range(len(line)):\n",
    "            line[i] = line[i].strip()\n",
    "        d = {\n",
    "            'Pruning ratio':line[0],\n",
    "            'EL2N':line[1],\n",
    "            'Random':line[2],\n",
    "        }\n",
    "        li.append(d)\n",
    "        print(line)  # strip() removes leading/trailing whitespace"
   ]
  },
  {
   "cell_type": "code",
   "execution_count": 12,
   "metadata": {},
   "outputs": [
    {
     "data": {
      "text/plain": [
       "[{'Pruning ratio': 'Pruning ratio', 'EL2N': 'EL2N', 'Random': 'Random'},\n",
       " {'Pruning ratio': '0% pruning', 'EL2N': '93.29', 'Random': '93.26'},\n",
       " {'Pruning ratio': '10% pruning', 'EL2N': '93.19', 'Random': '92.82'},\n",
       " {'Pruning ratio': '20% pruning', 'EL2N': '93.39', 'Random': '92.31'},\n",
       " {'Pruning ratio': '30% pruning', 'EL2N': '93.20', 'Random': '91.89'},\n",
       " {'Pruning ratio': '40% pruning', 'EL2N': '92.61', 'Random': '91.41'},\n",
       " {'Pruning ratio': '50% pruning', 'EL2N': '92.54', 'Random': '89.92'},\n",
       " {'Pruning ratio': '60% pruning', 'EL2N': '89.83', 'Random': '88.30'},\n",
       " {'Pruning ratio': '70% pruning', 'EL2N': '72.76', 'Random': '87.12'},\n",
       " {'Pruning ratio': '80% pruning', 'EL2N': '45.03', 'Random': '84.04'},\n",
       " {'Pruning ratio': '90% pruning', 'EL2N': '22.17', 'Random': '74.74'}]"
      ]
     },
     "execution_count": 12,
     "metadata": {},
     "output_type": "execute_result"
    }
   ],
   "source": [
    "li"
   ]
  },
  {
   "cell_type": "code",
   "execution_count": 13,
   "metadata": {},
   "outputs": [
    {
     "data": {
      "text/plain": [
       "{'Pruning ratio': 'Pruning ratio', 'EL2N': 'EL2N', 'Random': 'Random'}"
      ]
     },
     "execution_count": 13,
     "metadata": {},
     "output_type": "execute_result"
    }
   ],
   "source": [
    "li.pop(0)"
   ]
  },
  {
   "cell_type": "code",
   "execution_count": 14,
   "metadata": {},
   "outputs": [
    {
     "data": {
      "text/plain": [
       "[{'Pruning ratio': '0% pruning', 'EL2N': '93.29', 'Random': '93.26'},\n",
       " {'Pruning ratio': '10% pruning', 'EL2N': '93.19', 'Random': '92.82'},\n",
       " {'Pruning ratio': '20% pruning', 'EL2N': '93.39', 'Random': '92.31'},\n",
       " {'Pruning ratio': '30% pruning', 'EL2N': '93.20', 'Random': '91.89'},\n",
       " {'Pruning ratio': '40% pruning', 'EL2N': '92.61', 'Random': '91.41'},\n",
       " {'Pruning ratio': '50% pruning', 'EL2N': '92.54', 'Random': '89.92'},\n",
       " {'Pruning ratio': '60% pruning', 'EL2N': '89.83', 'Random': '88.30'},\n",
       " {'Pruning ratio': '70% pruning', 'EL2N': '72.76', 'Random': '87.12'},\n",
       " {'Pruning ratio': '80% pruning', 'EL2N': '45.03', 'Random': '84.04'},\n",
       " {'Pruning ratio': '90% pruning', 'EL2N': '22.17', 'Random': '74.74'}]"
      ]
     },
     "execution_count": 14,
     "metadata": {},
     "output_type": "execute_result"
    }
   ],
   "source": [
    "li"
   ]
  },
  {
   "cell_type": "code",
   "execution_count": 15,
   "metadata": {},
   "outputs": [],
   "source": [
    "import pandas as pd\n",
    "df = pd.DataFrame(li)\n",
    "\n",
    "df.to_csv('results.csv',index=False)"
   ]
  },
  {
   "cell_type": "code",
   "execution_count": null,
   "metadata": {},
   "outputs": [],
   "source": []
  }
 ],
 "metadata": {
  "kernelspec": {
   "display_name": "base",
   "language": "python",
   "name": "python3"
  },
  "language_info": {
   "codemirror_mode": {
    "name": "ipython",
    "version": 3
   },
   "file_extension": ".py",
   "mimetype": "text/x-python",
   "name": "python",
   "nbconvert_exporter": "python",
   "pygments_lexer": "ipython3",
   "version": "3.12.4"
  }
 },
 "nbformat": 4,
 "nbformat_minor": 2
}
