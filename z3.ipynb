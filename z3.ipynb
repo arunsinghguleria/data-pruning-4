{
 "cells": [
  {
   "cell_type": "code",
   "execution_count": 1,
   "metadata": {},
   "outputs": [],
   "source": [
    "import pandas as pd"
   ]
  },
  {
   "cell_type": "code",
   "execution_count": 24,
   "metadata": {},
   "outputs": [],
   "source": [
    "def get_pruned_example_names_function2(ratio = 0.2):\n",
    "    print('using newly written method ')\n",
    "    i = 4\n",
    "    path = [\n",
    "    f'/data/home1/arunsg/gitproject/data-pruning-4/Scores/CIFAR10-FULL/42/EL2N_score_{i}.csv',\n",
    "    f'/data/home1/arunsg/gitproject/data-pruning-4/Scores/CIFAR10-FULL/4242/EL2N_score_{i}.csv',\n",
    "    f'/data/home1/arunsg/gitproject/data-pruning-4/Scores/CIFAR10-FULL/21346/EL2N_score_{i}.csv',\n",
    "    f'/data/home1/arunsg/gitproject/data-pruning-4/Scores/CIFAR10-FULL/30214/EL2N_score_{i}.csv',\n",
    "    f'/data/home1/arunsg/gitproject/data-pruning-4/Scores/CIFAR10-FULL/35678/EL2N_score_{i}.csv',\n",
    "    f'/data/home1/arunsg/gitproject/data-pruning-4/Scores/CIFAR10-FULL/54821/EL2N_score_{i}.csv',\n",
    "    f'/data/home1/arunsg/gitproject/data-pruning-4/Scores/CIFAR10-FULL/69105/EL2N_score_{i}.csv',\n",
    "    f'/data/home1/arunsg/gitproject/data-pruning-4/Scores/CIFAR10-FULL/76453/EL2N_score_{i}.csv',\n",
    "    f'/data/home1/arunsg/gitproject/data-pruning-4/Scores/CIFAR10-FULL/98567/EL2N_score_{i}.csv',\n",
    "    f'/data/home1/arunsg/gitproject/data-pruning-4/Scores/CIFAR10-FULL/424242/EL2N_score_{i}.csv',\n",
    "    \n",
    "    \n",
    "    \n",
    "    # '/data/home1/arunsg/gitproject/data-pruning-4/Scores/CIFAR10-FULL/42/EL2N_score_1.csv',\n",
    "    # '/data/home1/arunsg/gitproject/data-pruning-4/Scores/CIFAR10-FULL/42/EL2N_score_2.csv',\n",
    "    # '/data/home1/arunsg/gitproject/data-pruning-4/Scores/CIFAR10-FULL/42/EL2N_score_3.csv',\n",
    "    # '/data/home1/arunsg/gitproject/data-pruning-4/Scores/CIFAR10-FULL/42/EL2N_score_4.csv',\n",
    "    # '/data/home1/arunsg/gitproject/data-pruning-4/Scores/CIFAR10-FULL/4242/EL2N_score_0.csv',\n",
    "    # '/data/home1/arunsg/gitproject/data-pruning-4/Scores/CIFAR10-FULL/4242/EL2N_score_1.csv',\n",
    "    # '/data/home1/arunsg/gitproject/data-pruning-4/Scores/CIFAR10-FULL/4242/EL2N_score_2.csv',\n",
    "    ]\n",
    "    dataFrame = pd.DataFrame()\n",
    "    for file in path:\n",
    "        df = pd.read_csv(file,index_col=0)\n",
    "        df['sum'] = df.iloc[:,:].sum(axis=1)\n",
    "        # df['sum'] = df['sum']/(len(df.columns)-2)\n",
    "        if(dataFrame.empty):\n",
    "            dataFrame = df[['sum']]\n",
    "        else:\n",
    "            dataFrame = pd.DataFrame({'sum': df['sum'] + dataFrame['sum']})\n",
    "    \n",
    "\n",
    "    dataFrame.to_csv('z3_csv.csv')\n",
    "    dataFrame = dataFrame.sort_values(by='sum', ascending=True)\n",
    "    print(dataFrame)\n",
    "    numRows = dataFrame.shape[0]\n",
    "    dataFrame = dataFrame.iloc[:int(ratio*numRows)]\n",
    "    indexs = dataFrame.index.tolist()\n",
    "\n",
    "    return indexs\n",
    "\n",
    "\n",
    "    \n",
    "\n",
    "\n"
   ]
  },
  {
   "cell_type": "code",
   "execution_count": 25,
   "metadata": {},
   "outputs": [
    {
     "name": "stdout",
     "output_type": "stream",
     "text": [
      "using newly written method \n"
     ]
    },
    {
     "ename": "FileNotFoundError",
     "evalue": "[Errno 2] No such file or directory: '/data/home1/arunsg/gitproject/data-pruning-4/Scores/CIFAR10-FULL/69105/EL2N_score_4.csv'",
     "output_type": "error",
     "traceback": [
      "\u001b[0;31m---------------------------------------------------------------------------\u001b[0m",
      "\u001b[0;31mFileNotFoundError\u001b[0m                         Traceback (most recent call last)",
      "Cell \u001b[0;32mIn[25], line 1\u001b[0m\n\u001b[0;32m----> 1\u001b[0m tmp \u001b[38;5;241m=\u001b[39m \u001b[43mget_pruned_example_names_function2\u001b[49m\u001b[43m(\u001b[49m\u001b[43m)\u001b[49m\n",
      "Cell \u001b[0;32mIn[24], line 28\u001b[0m, in \u001b[0;36mget_pruned_example_names_function2\u001b[0;34m(ratio)\u001b[0m\n\u001b[1;32m     26\u001b[0m dataFrame \u001b[38;5;241m=\u001b[39m pd\u001b[38;5;241m.\u001b[39mDataFrame()\n\u001b[1;32m     27\u001b[0m \u001b[38;5;28;01mfor\u001b[39;00m file \u001b[38;5;129;01min\u001b[39;00m path:\n\u001b[0;32m---> 28\u001b[0m     df \u001b[38;5;241m=\u001b[39m \u001b[43mpd\u001b[49m\u001b[38;5;241;43m.\u001b[39;49m\u001b[43mread_csv\u001b[49m\u001b[43m(\u001b[49m\u001b[43mfile\u001b[49m\u001b[43m,\u001b[49m\u001b[43mindex_col\u001b[49m\u001b[38;5;241;43m=\u001b[39;49m\u001b[38;5;241;43m0\u001b[39;49m\u001b[43m)\u001b[49m\n\u001b[1;32m     29\u001b[0m     df[\u001b[38;5;124m'\u001b[39m\u001b[38;5;124msum\u001b[39m\u001b[38;5;124m'\u001b[39m] \u001b[38;5;241m=\u001b[39m df\u001b[38;5;241m.\u001b[39miloc[:,:]\u001b[38;5;241m.\u001b[39msum(axis\u001b[38;5;241m=\u001b[39m\u001b[38;5;241m1\u001b[39m)\n\u001b[1;32m     30\u001b[0m     \u001b[38;5;66;03m# df['sum'] = df['sum']/(len(df.columns)-2)\u001b[39;00m\n",
      "File \u001b[0;32m~/miniconda3/lib/python3.12/site-packages/pandas/io/parsers/readers.py:1026\u001b[0m, in \u001b[0;36mread_csv\u001b[0;34m(filepath_or_buffer, sep, delimiter, header, names, index_col, usecols, dtype, engine, converters, true_values, false_values, skipinitialspace, skiprows, skipfooter, nrows, na_values, keep_default_na, na_filter, verbose, skip_blank_lines, parse_dates, infer_datetime_format, keep_date_col, date_parser, date_format, dayfirst, cache_dates, iterator, chunksize, compression, thousands, decimal, lineterminator, quotechar, quoting, doublequote, escapechar, comment, encoding, encoding_errors, dialect, on_bad_lines, delim_whitespace, low_memory, memory_map, float_precision, storage_options, dtype_backend)\u001b[0m\n\u001b[1;32m   1013\u001b[0m kwds_defaults \u001b[38;5;241m=\u001b[39m _refine_defaults_read(\n\u001b[1;32m   1014\u001b[0m     dialect,\n\u001b[1;32m   1015\u001b[0m     delimiter,\n\u001b[0;32m   (...)\u001b[0m\n\u001b[1;32m   1022\u001b[0m     dtype_backend\u001b[38;5;241m=\u001b[39mdtype_backend,\n\u001b[1;32m   1023\u001b[0m )\n\u001b[1;32m   1024\u001b[0m kwds\u001b[38;5;241m.\u001b[39mupdate(kwds_defaults)\n\u001b[0;32m-> 1026\u001b[0m \u001b[38;5;28;01mreturn\u001b[39;00m \u001b[43m_read\u001b[49m\u001b[43m(\u001b[49m\u001b[43mfilepath_or_buffer\u001b[49m\u001b[43m,\u001b[49m\u001b[43m \u001b[49m\u001b[43mkwds\u001b[49m\u001b[43m)\u001b[49m\n",
      "File \u001b[0;32m~/miniconda3/lib/python3.12/site-packages/pandas/io/parsers/readers.py:620\u001b[0m, in \u001b[0;36m_read\u001b[0;34m(filepath_or_buffer, kwds)\u001b[0m\n\u001b[1;32m    617\u001b[0m _validate_names(kwds\u001b[38;5;241m.\u001b[39mget(\u001b[38;5;124m\"\u001b[39m\u001b[38;5;124mnames\u001b[39m\u001b[38;5;124m\"\u001b[39m, \u001b[38;5;28;01mNone\u001b[39;00m))\n\u001b[1;32m    619\u001b[0m \u001b[38;5;66;03m# Create the parser.\u001b[39;00m\n\u001b[0;32m--> 620\u001b[0m parser \u001b[38;5;241m=\u001b[39m \u001b[43mTextFileReader\u001b[49m\u001b[43m(\u001b[49m\u001b[43mfilepath_or_buffer\u001b[49m\u001b[43m,\u001b[49m\u001b[43m \u001b[49m\u001b[38;5;241;43m*\u001b[39;49m\u001b[38;5;241;43m*\u001b[39;49m\u001b[43mkwds\u001b[49m\u001b[43m)\u001b[49m\n\u001b[1;32m    622\u001b[0m \u001b[38;5;28;01mif\u001b[39;00m chunksize \u001b[38;5;129;01mor\u001b[39;00m iterator:\n\u001b[1;32m    623\u001b[0m     \u001b[38;5;28;01mreturn\u001b[39;00m parser\n",
      "File \u001b[0;32m~/miniconda3/lib/python3.12/site-packages/pandas/io/parsers/readers.py:1620\u001b[0m, in \u001b[0;36mTextFileReader.__init__\u001b[0;34m(self, f, engine, **kwds)\u001b[0m\n\u001b[1;32m   1617\u001b[0m     \u001b[38;5;28mself\u001b[39m\u001b[38;5;241m.\u001b[39moptions[\u001b[38;5;124m\"\u001b[39m\u001b[38;5;124mhas_index_names\u001b[39m\u001b[38;5;124m\"\u001b[39m] \u001b[38;5;241m=\u001b[39m kwds[\u001b[38;5;124m\"\u001b[39m\u001b[38;5;124mhas_index_names\u001b[39m\u001b[38;5;124m\"\u001b[39m]\n\u001b[1;32m   1619\u001b[0m \u001b[38;5;28mself\u001b[39m\u001b[38;5;241m.\u001b[39mhandles: IOHandles \u001b[38;5;241m|\u001b[39m \u001b[38;5;28;01mNone\u001b[39;00m \u001b[38;5;241m=\u001b[39m \u001b[38;5;28;01mNone\u001b[39;00m\n\u001b[0;32m-> 1620\u001b[0m \u001b[38;5;28mself\u001b[39m\u001b[38;5;241m.\u001b[39m_engine \u001b[38;5;241m=\u001b[39m \u001b[38;5;28;43mself\u001b[39;49m\u001b[38;5;241;43m.\u001b[39;49m\u001b[43m_make_engine\u001b[49m\u001b[43m(\u001b[49m\u001b[43mf\u001b[49m\u001b[43m,\u001b[49m\u001b[43m \u001b[49m\u001b[38;5;28;43mself\u001b[39;49m\u001b[38;5;241;43m.\u001b[39;49m\u001b[43mengine\u001b[49m\u001b[43m)\u001b[49m\n",
      "File \u001b[0;32m~/miniconda3/lib/python3.12/site-packages/pandas/io/parsers/readers.py:1880\u001b[0m, in \u001b[0;36mTextFileReader._make_engine\u001b[0;34m(self, f, engine)\u001b[0m\n\u001b[1;32m   1878\u001b[0m     \u001b[38;5;28;01mif\u001b[39;00m \u001b[38;5;124m\"\u001b[39m\u001b[38;5;124mb\u001b[39m\u001b[38;5;124m\"\u001b[39m \u001b[38;5;129;01mnot\u001b[39;00m \u001b[38;5;129;01min\u001b[39;00m mode:\n\u001b[1;32m   1879\u001b[0m         mode \u001b[38;5;241m+\u001b[39m\u001b[38;5;241m=\u001b[39m \u001b[38;5;124m\"\u001b[39m\u001b[38;5;124mb\u001b[39m\u001b[38;5;124m\"\u001b[39m\n\u001b[0;32m-> 1880\u001b[0m \u001b[38;5;28mself\u001b[39m\u001b[38;5;241m.\u001b[39mhandles \u001b[38;5;241m=\u001b[39m \u001b[43mget_handle\u001b[49m\u001b[43m(\u001b[49m\n\u001b[1;32m   1881\u001b[0m \u001b[43m    \u001b[49m\u001b[43mf\u001b[49m\u001b[43m,\u001b[49m\n\u001b[1;32m   1882\u001b[0m \u001b[43m    \u001b[49m\u001b[43mmode\u001b[49m\u001b[43m,\u001b[49m\n\u001b[1;32m   1883\u001b[0m \u001b[43m    \u001b[49m\u001b[43mencoding\u001b[49m\u001b[38;5;241;43m=\u001b[39;49m\u001b[38;5;28;43mself\u001b[39;49m\u001b[38;5;241;43m.\u001b[39;49m\u001b[43moptions\u001b[49m\u001b[38;5;241;43m.\u001b[39;49m\u001b[43mget\u001b[49m\u001b[43m(\u001b[49m\u001b[38;5;124;43m\"\u001b[39;49m\u001b[38;5;124;43mencoding\u001b[39;49m\u001b[38;5;124;43m\"\u001b[39;49m\u001b[43m,\u001b[49m\u001b[43m \u001b[49m\u001b[38;5;28;43;01mNone\u001b[39;49;00m\u001b[43m)\u001b[49m\u001b[43m,\u001b[49m\n\u001b[1;32m   1884\u001b[0m \u001b[43m    \u001b[49m\u001b[43mcompression\u001b[49m\u001b[38;5;241;43m=\u001b[39;49m\u001b[38;5;28;43mself\u001b[39;49m\u001b[38;5;241;43m.\u001b[39;49m\u001b[43moptions\u001b[49m\u001b[38;5;241;43m.\u001b[39;49m\u001b[43mget\u001b[49m\u001b[43m(\u001b[49m\u001b[38;5;124;43m\"\u001b[39;49m\u001b[38;5;124;43mcompression\u001b[39;49m\u001b[38;5;124;43m\"\u001b[39;49m\u001b[43m,\u001b[49m\u001b[43m \u001b[49m\u001b[38;5;28;43;01mNone\u001b[39;49;00m\u001b[43m)\u001b[49m\u001b[43m,\u001b[49m\n\u001b[1;32m   1885\u001b[0m \u001b[43m    \u001b[49m\u001b[43mmemory_map\u001b[49m\u001b[38;5;241;43m=\u001b[39;49m\u001b[38;5;28;43mself\u001b[39;49m\u001b[38;5;241;43m.\u001b[39;49m\u001b[43moptions\u001b[49m\u001b[38;5;241;43m.\u001b[39;49m\u001b[43mget\u001b[49m\u001b[43m(\u001b[49m\u001b[38;5;124;43m\"\u001b[39;49m\u001b[38;5;124;43mmemory_map\u001b[39;49m\u001b[38;5;124;43m\"\u001b[39;49m\u001b[43m,\u001b[49m\u001b[43m \u001b[49m\u001b[38;5;28;43;01mFalse\u001b[39;49;00m\u001b[43m)\u001b[49m\u001b[43m,\u001b[49m\n\u001b[1;32m   1886\u001b[0m \u001b[43m    \u001b[49m\u001b[43mis_text\u001b[49m\u001b[38;5;241;43m=\u001b[39;49m\u001b[43mis_text\u001b[49m\u001b[43m,\u001b[49m\n\u001b[1;32m   1887\u001b[0m \u001b[43m    \u001b[49m\u001b[43merrors\u001b[49m\u001b[38;5;241;43m=\u001b[39;49m\u001b[38;5;28;43mself\u001b[39;49m\u001b[38;5;241;43m.\u001b[39;49m\u001b[43moptions\u001b[49m\u001b[38;5;241;43m.\u001b[39;49m\u001b[43mget\u001b[49m\u001b[43m(\u001b[49m\u001b[38;5;124;43m\"\u001b[39;49m\u001b[38;5;124;43mencoding_errors\u001b[39;49m\u001b[38;5;124;43m\"\u001b[39;49m\u001b[43m,\u001b[49m\u001b[43m \u001b[49m\u001b[38;5;124;43m\"\u001b[39;49m\u001b[38;5;124;43mstrict\u001b[39;49m\u001b[38;5;124;43m\"\u001b[39;49m\u001b[43m)\u001b[49m\u001b[43m,\u001b[49m\n\u001b[1;32m   1888\u001b[0m \u001b[43m    \u001b[49m\u001b[43mstorage_options\u001b[49m\u001b[38;5;241;43m=\u001b[39;49m\u001b[38;5;28;43mself\u001b[39;49m\u001b[38;5;241;43m.\u001b[39;49m\u001b[43moptions\u001b[49m\u001b[38;5;241;43m.\u001b[39;49m\u001b[43mget\u001b[49m\u001b[43m(\u001b[49m\u001b[38;5;124;43m\"\u001b[39;49m\u001b[38;5;124;43mstorage_options\u001b[39;49m\u001b[38;5;124;43m\"\u001b[39;49m\u001b[43m,\u001b[49m\u001b[43m \u001b[49m\u001b[38;5;28;43;01mNone\u001b[39;49;00m\u001b[43m)\u001b[49m\u001b[43m,\u001b[49m\n\u001b[1;32m   1889\u001b[0m \u001b[43m\u001b[49m\u001b[43m)\u001b[49m\n\u001b[1;32m   1890\u001b[0m \u001b[38;5;28;01massert\u001b[39;00m \u001b[38;5;28mself\u001b[39m\u001b[38;5;241m.\u001b[39mhandles \u001b[38;5;129;01mis\u001b[39;00m \u001b[38;5;129;01mnot\u001b[39;00m \u001b[38;5;28;01mNone\u001b[39;00m\n\u001b[1;32m   1891\u001b[0m f \u001b[38;5;241m=\u001b[39m \u001b[38;5;28mself\u001b[39m\u001b[38;5;241m.\u001b[39mhandles\u001b[38;5;241m.\u001b[39mhandle\n",
      "File \u001b[0;32m~/miniconda3/lib/python3.12/site-packages/pandas/io/common.py:873\u001b[0m, in \u001b[0;36mget_handle\u001b[0;34m(path_or_buf, mode, encoding, compression, memory_map, is_text, errors, storage_options)\u001b[0m\n\u001b[1;32m    868\u001b[0m \u001b[38;5;28;01melif\u001b[39;00m \u001b[38;5;28misinstance\u001b[39m(handle, \u001b[38;5;28mstr\u001b[39m):\n\u001b[1;32m    869\u001b[0m     \u001b[38;5;66;03m# Check whether the filename is to be opened in binary mode.\u001b[39;00m\n\u001b[1;32m    870\u001b[0m     \u001b[38;5;66;03m# Binary mode does not support 'encoding' and 'newline'.\u001b[39;00m\n\u001b[1;32m    871\u001b[0m     \u001b[38;5;28;01mif\u001b[39;00m ioargs\u001b[38;5;241m.\u001b[39mencoding \u001b[38;5;129;01mand\u001b[39;00m \u001b[38;5;124m\"\u001b[39m\u001b[38;5;124mb\u001b[39m\u001b[38;5;124m\"\u001b[39m \u001b[38;5;129;01mnot\u001b[39;00m \u001b[38;5;129;01min\u001b[39;00m ioargs\u001b[38;5;241m.\u001b[39mmode:\n\u001b[1;32m    872\u001b[0m         \u001b[38;5;66;03m# Encoding\u001b[39;00m\n\u001b[0;32m--> 873\u001b[0m         handle \u001b[38;5;241m=\u001b[39m \u001b[38;5;28;43mopen\u001b[39;49m\u001b[43m(\u001b[49m\n\u001b[1;32m    874\u001b[0m \u001b[43m            \u001b[49m\u001b[43mhandle\u001b[49m\u001b[43m,\u001b[49m\n\u001b[1;32m    875\u001b[0m \u001b[43m            \u001b[49m\u001b[43mioargs\u001b[49m\u001b[38;5;241;43m.\u001b[39;49m\u001b[43mmode\u001b[49m\u001b[43m,\u001b[49m\n\u001b[1;32m    876\u001b[0m \u001b[43m            \u001b[49m\u001b[43mencoding\u001b[49m\u001b[38;5;241;43m=\u001b[39;49m\u001b[43mioargs\u001b[49m\u001b[38;5;241;43m.\u001b[39;49m\u001b[43mencoding\u001b[49m\u001b[43m,\u001b[49m\n\u001b[1;32m    877\u001b[0m \u001b[43m            \u001b[49m\u001b[43merrors\u001b[49m\u001b[38;5;241;43m=\u001b[39;49m\u001b[43merrors\u001b[49m\u001b[43m,\u001b[49m\n\u001b[1;32m    878\u001b[0m \u001b[43m            \u001b[49m\u001b[43mnewline\u001b[49m\u001b[38;5;241;43m=\u001b[39;49m\u001b[38;5;124;43m\"\u001b[39;49m\u001b[38;5;124;43m\"\u001b[39;49m\u001b[43m,\u001b[49m\n\u001b[1;32m    879\u001b[0m \u001b[43m        \u001b[49m\u001b[43m)\u001b[49m\n\u001b[1;32m    880\u001b[0m     \u001b[38;5;28;01melse\u001b[39;00m:\n\u001b[1;32m    881\u001b[0m         \u001b[38;5;66;03m# Binary mode\u001b[39;00m\n\u001b[1;32m    882\u001b[0m         handle \u001b[38;5;241m=\u001b[39m \u001b[38;5;28mopen\u001b[39m(handle, ioargs\u001b[38;5;241m.\u001b[39mmode)\n",
      "\u001b[0;31mFileNotFoundError\u001b[0m: [Errno 2] No such file or directory: '/data/home1/arunsg/gitproject/data-pruning-4/Scores/CIFAR10-FULL/69105/EL2N_score_4.csv'"
     ]
    }
   ],
   "source": [
    "tmp = get_pruned_example_names_function2()"
   ]
  },
  {
   "cell_type": "code",
   "execution_count": 5,
   "metadata": {},
   "outputs": [
    {
     "data": {
      "text/plain": [
       "10000"
      ]
     },
     "execution_count": 5,
     "metadata": {},
     "output_type": "execute_result"
    }
   ],
   "source": [
    "len(tmp)"
   ]
  },
  {
   "cell_type": "code",
   "execution_count": 16,
   "metadata": {},
   "outputs": [],
   "source": [
    "df = pd.DataFrame({'num_legs': [2, 4, 8, 0],\n",
    "                    'num_wings': [2, 0, 0, 0],\n",
    "                    'num_specimen_seen': [10, 2, 1, 8]},\n",
    "                   index=['falcon', 'dog', 'spider', 'fish'])\n"
   ]
  },
  {
   "cell_type": "code",
   "execution_count": 17,
   "metadata": {},
   "outputs": [
    {
     "data": {
      "text/html": [
       "<div>\n",
       "<style scoped>\n",
       "    .dataframe tbody tr th:only-of-type {\n",
       "        vertical-align: middle;\n",
       "    }\n",
       "\n",
       "    .dataframe tbody tr th {\n",
       "        vertical-align: top;\n",
       "    }\n",
       "\n",
       "    .dataframe thead th {\n",
       "        text-align: right;\n",
       "    }\n",
       "</style>\n",
       "<table border=\"1\" class=\"dataframe\">\n",
       "  <thead>\n",
       "    <tr style=\"text-align: right;\">\n",
       "      <th></th>\n",
       "      <th>num_legs</th>\n",
       "      <th>num_wings</th>\n",
       "      <th>num_specimen_seen</th>\n",
       "    </tr>\n",
       "  </thead>\n",
       "  <tbody>\n",
       "    <tr>\n",
       "      <th>falcon</th>\n",
       "      <td>2</td>\n",
       "      <td>2</td>\n",
       "      <td>10</td>\n",
       "    </tr>\n",
       "    <tr>\n",
       "      <th>dog</th>\n",
       "      <td>4</td>\n",
       "      <td>0</td>\n",
       "      <td>2</td>\n",
       "    </tr>\n",
       "    <tr>\n",
       "      <th>spider</th>\n",
       "      <td>8</td>\n",
       "      <td>0</td>\n",
       "      <td>1</td>\n",
       "    </tr>\n",
       "    <tr>\n",
       "      <th>fish</th>\n",
       "      <td>0</td>\n",
       "      <td>0</td>\n",
       "      <td>8</td>\n",
       "    </tr>\n",
       "  </tbody>\n",
       "</table>\n",
       "</div>"
      ],
      "text/plain": [
       "        num_legs  num_wings  num_specimen_seen\n",
       "falcon         2          2                 10\n",
       "dog            4          0                  2\n",
       "spider         8          0                  1\n",
       "fish           0          0                  8"
      ]
     },
     "execution_count": 17,
     "metadata": {},
     "output_type": "execute_result"
    }
   ],
   "source": [
    "df"
   ]
  },
  {
   "cell_type": "code",
   "execution_count": 30,
   "metadata": {},
   "outputs": [],
   "source": [
    "df_shuffled = df.sample(frac=1, random_state=42)"
   ]
  },
  {
   "cell_type": "code",
   "execution_count": 51,
   "metadata": {},
   "outputs": [],
   "source": [
    "df_shuffled\n",
    "d = []"
   ]
  },
  {
   "cell_type": "code",
   "execution_count": null,
   "metadata": {},
   "outputs": [],
   "source": [
    "li = []\n",
    "for i in range(8):\n",
    "    with open(f\"{i}.txt\", \"r\") as file:\n",
    "        while (line := file.readline()):\n",
    "            acc = float(line.split()[-1])\n",
    "            li.append(acc)\n",
    "            # print(acc)\n",
    "            line = file.readline()\n",
    "            line = file.readline()"
   ]
  },
  {
   "cell_type": "code",
   "execution_count": null,
   "metadata": {},
   "outputs": [],
   "source": []
  },
  {
   "cell_type": "code",
   "execution_count": 67,
   "metadata": {},
   "outputs": [],
   "source": [
    "d.append({\n",
    "    'sample' : [2577, 971, 3590, 4743, 2926, 3083, 1656, 1792, 1279, 2383],\n",
    "    'acc': li,\n",
    "    'method': 'random-30'\n",
    "})"
   ]
  },
  {
   "cell_type": "code",
   "execution_count": 68,
   "metadata": {},
   "outputs": [
    {
     "data": {
      "text/plain": [
       "[{'sample': [5000, 5000, 5000, 5000, 5000, 5000, 5000, 5000, 5000, 5000],\n",
       "  'acc': [0.47689998149871826,\n",
       "   0.5590999722480774,\n",
       "   0.6333999633789062,\n",
       "   0.674299955368042,\n",
       "   0.7012999653816223,\n",
       "   0.7418000102043152,\n",
       "   0.7500999569892883,\n",
       "   0.7748000025749207,\n",
       "   0.7872999906539917,\n",
       "   0.7960999608039856,\n",
       "   0.8083999752998352,\n",
       "   0.7991999983787537,\n",
       "   0.8184999823570251,\n",
       "   0.8240999579429626,\n",
       "   0.828499972820282,\n",
       "   0.8326999545097351,\n",
       "   0.825499951839447,\n",
       "   0.8362999558448792,\n",
       "   0.8416999578475952,\n",
       "   0.8473999500274658,\n",
       "   0.8489999771118164,\n",
       "   0.8455999493598938,\n",
       "   0.8526999950408936,\n",
       "   0.8470999598503113,\n",
       "   0.847599983215332,\n",
       "   0.8515999913215637,\n",
       "   0.8597999811172485,\n",
       "   0.8513000011444092,\n",
       "   0.856499969959259,\n",
       "   0.8527999520301819],\n",
       "  'method': 'no-pruning'},\n",
       " {'sample': [3747, 1867, 4483, 4998, 4187, 4275, 2759, 2845, 2225, 3614],\n",
       "  'acc': [0.3594000041484833,\n",
       "   0.42319998145103455,\n",
       "   0.47369998693466187,\n",
       "   0.5351999998092651,\n",
       "   0.5702999830245972,\n",
       "   0.6220999956130981,\n",
       "   0.671999990940094,\n",
       "   0.708899974822998,\n",
       "   0.725600004196167,\n",
       "   0.7374999523162842,\n",
       "   0.771399974822998,\n",
       "   0.776699960231781,\n",
       "   0.7906999588012695,\n",
       "   0.7831999659538269,\n",
       "   0.7930999994277954,\n",
       "   0.7940999865531921,\n",
       "   0.8107999563217163,\n",
       "   0.8051999807357788,\n",
       "   0.8151999711990356,\n",
       "   0.8118000030517578,\n",
       "   0.8187999725341797,\n",
       "   0.8079999685287476,\n",
       "   0.8237999677658081,\n",
       "   0.8274999856948853,\n",
       "   0.8226999640464783,\n",
       "   0.821399986743927,\n",
       "   0.8308999538421631,\n",
       "   0.8295999765396118,\n",
       "   0.8345999717712402,\n",
       "   0.8366000056266785],\n",
       "  'method': 'el2n-30'},\n",
       " {'sample': [3465, 3471, 3517, 3502, 3519, 3508, 3455, 3534, 3521, 3508],\n",
       "  'acc': [0.4592999815940857,\n",
       "   0.5273999571800232,\n",
       "   0.5819999575614929,\n",
       "   0.6380999684333801,\n",
       "   0.6640999913215637,\n",
       "   0.6933000087738037,\n",
       "   0.7164999842643738,\n",
       "   0.7423999905586243,\n",
       "   0.7608999609947205,\n",
       "   0.7712999582290649,\n",
       "   0.771399974822998,\n",
       "   0.7805999517440796,\n",
       "   0.7839999794960022,\n",
       "   0.7883999943733215,\n",
       "   0.7931999564170837,\n",
       "   0.7958999872207642,\n",
       "   0.8064000010490417,\n",
       "   0.8100000023841858,\n",
       "   0.8152999877929688,\n",
       "   0.8055999875068665,\n",
       "   0.817799985408783,\n",
       "   0.8244999647140503,\n",
       "   0.8181999921798706,\n",
       "   0.8240000009536743,\n",
       "   0.8190000057220459,\n",
       "   0.8226999640464783,\n",
       "   0.821899950504303,\n",
       "   0.8260999917984009,\n",
       "   0.8281999826431274,\n",
       "   0.8366000056266785],\n",
       "  'method': 'random-30'},\n",
       " {'sample': [2577, 971, 3590, 4743, 2926, 3083, 1656, 1792, 1279, 2383],\n",
       "  'acc': [0.2556999921798706,\n",
       "   0.29589998722076416,\n",
       "   0.30820000171661377,\n",
       "   0.3407000005245209,\n",
       "   0.362199991941452,\n",
       "   0.4296000003814697,\n",
       "   0.44749999046325684,\n",
       "   0.4755999743938446,\n",
       "   0.5101999640464783,\n",
       "   0.5202999711036682,\n",
       "   0.5699999928474426,\n",
       "   0.598800003528595,\n",
       "   0.6007999777793884,\n",
       "   0.6342999935150146,\n",
       "   0.6381999850273132,\n",
       "   0.6410999894142151,\n",
       "   0.65829998254776,\n",
       "   0.6694999933242798,\n",
       "   0.670699954032898,\n",
       "   0.7001999616622925,\n",
       "   0.6959999799728394,\n",
       "   0.7127999663352966,\n",
       "   0.7227999567985535,\n",
       "   0.7148999571800232,\n",
       "   0.715999960899353,\n",
       "   0.7234999537467957,\n",
       "   0.7304999828338623,\n",
       "   0.731499969959259,\n",
       "   0.7324000000953674,\n",
       "   0.7384999990463257],\n",
       "  'method': 'random-30'}]"
      ]
     },
     "execution_count": 68,
     "metadata": {},
     "output_type": "execute_result"
    }
   ],
   "source": [
    "d"
   ]
  },
  {
   "cell_type": "code",
   "execution_count": 69,
   "metadata": {},
   "outputs": [],
   "source": [
    "tmp = pd.DataFrame(d)"
   ]
  },
  {
   "cell_type": "code",
   "execution_count": 73,
   "metadata": {},
   "outputs": [],
   "source": [
    "tmp.to_csv('results.csv')"
   ]
  },
  {
   "cell_type": "code",
   "execution_count": 71,
   "metadata": {},
   "outputs": [
    {
     "data": {
      "text/plain": [
       "{'sample': [5000, 5000, 5000, 5000, 5000, 5000, 5000, 5000, 5000, 5000],\n",
       " 'acc': [0.47689998149871826,\n",
       "  0.5590999722480774,\n",
       "  0.6333999633789062,\n",
       "  0.674299955368042,\n",
       "  0.7012999653816223,\n",
       "  0.7418000102043152,\n",
       "  0.7500999569892883,\n",
       "  0.7748000025749207,\n",
       "  0.7872999906539917,\n",
       "  0.7960999608039856,\n",
       "  0.8083999752998352,\n",
       "  0.7991999983787537,\n",
       "  0.8184999823570251,\n",
       "  0.8240999579429626,\n",
       "  0.828499972820282,\n",
       "  0.8326999545097351,\n",
       "  0.825499951839447,\n",
       "  0.8362999558448792,\n",
       "  0.8416999578475952,\n",
       "  0.8473999500274658,\n",
       "  0.8489999771118164,\n",
       "  0.8455999493598938,\n",
       "  0.8526999950408936,\n",
       "  0.8470999598503113,\n",
       "  0.847599983215332,\n",
       "  0.8515999913215637,\n",
       "  0.8597999811172485,\n",
       "  0.8513000011444092,\n",
       "  0.856499969959259,\n",
       "  0.8527999520301819],\n",
       " 'method': 'no-pruning'}"
      ]
     },
     "execution_count": 71,
     "metadata": {},
     "output_type": "execute_result"
    }
   ],
   "source": [
    "d.pop(0)"
   ]
  },
  {
   "cell_type": "code",
   "execution_count": null,
   "metadata": {},
   "outputs": [],
   "source": []
  }
 ],
 "metadata": {
  "kernelspec": {
   "display_name": "base",
   "language": "python",
   "name": "python3"
  },
  "language_info": {
   "codemirror_mode": {
    "name": "ipython",
    "version": 3
   },
   "file_extension": ".py",
   "mimetype": "text/x-python",
   "name": "python",
   "nbconvert_exporter": "python",
   "pygments_lexer": "ipython3",
   "version": "3.12.4"
  }
 },
 "nbformat": 4,
 "nbformat_minor": 2
}
